{
  "nbformat": 4,
  "nbformat_minor": 0,
  "metadata": {
    "colab": {
      "provenance": [],
      "gpuType": "T4"
    },
    "kernelspec": {
      "name": "python3",
      "display_name": "Python 3"
    },
    "language_info": {
      "name": "python"
    },
    "accelerator": "GPU"
  },
  "cells": [
    {
      "cell_type": "code",
      "execution_count": null,
      "metadata": {
        "id": "_M5PCgi2yiQT"
      },
      "outputs": [],
      "source": [
        "import torch"
      ]
    },
    {
      "cell_type": "markdown",
      "source": [
        "\n",
        "\n",
        "#Chapter-1: Getting started with PyTorch\n",
        "\n",
        "\n"
      ],
      "metadata": {
        "id": "LaE6TlN5ys9K"
      }
    },
    {
      "cell_type": "code",
      "source": [
        "#mmaking tensors\n",
        "#tensors are basicallly grouped numbers as well as set of rule that define transformation of tensors after some operations\n",
        "\n",
        "tens=torch.tensor([[1,2],[1,3],[1,4]])\n",
        "tens.shape\n",
        "tens.ndim"
      ],
      "metadata": {
        "colab": {
          "base_uri": "https://localhost:8080/"
        },
        "id": "7n1KgJCjyxbM",
        "outputId": "351001f0-287b-4ff6-f96b-ec7298f04dc5"
      },
      "execution_count": null,
      "outputs": [
        {
          "output_type": "execute_result",
          "data": {
            "text/plain": [
              "2"
            ]
          },
          "metadata": {},
          "execution_count": 2
        }
      ]
    },
    {
      "cell_type": "code",
      "source": [
        "#adding two tensor\n",
        "y=tens+tens\n",
        "y"
      ],
      "metadata": {
        "colab": {
          "base_uri": "https://localhost:8080/"
        },
        "id": "zKEKhHnhzjkG",
        "outputId": "5a716fb6-b64d-4751-b737-745d6032a2a4"
      },
      "execution_count": null,
      "outputs": [
        {
          "output_type": "execute_result",
          "data": {
            "text/plain": [
              "tensor([[2, 4],\n",
              "        [2, 6],\n",
              "        [2, 8]])"
            ]
          },
          "metadata": {},
          "execution_count": 3
        }
      ]
    },
    {
      "cell_type": "code",
      "source": [
        "#tensor trnformation\n",
        "cpu_tens=torch.tensor(3)\n",
        "cpu_tens.device\n",
        "gput_tensor=cpu_tens.to(\"cuda\")\n",
        "gput_tensor.device\n",
        "\n",
        "#change the data type\n",
        "d_tensor=torch.tensor(3)\n",
        "d_tensor.dtype\n",
        "y=d_tensor.to(dtype=torch.float32)\n",
        "y.dtype\n",
        "\n",
        "#reshaping the tensors\n",
        "res=torch.rand(784)\n",
        "res_done=res.reshape(1,28,28)\n",
        "res_done.shape\n",
        "\n",
        "\n",
        "#permute\n",
        "res_mut=res_done.permute(2,0,1)\n",
        "res_mut.shape"
      ],
      "metadata": {
        "colab": {
          "base_uri": "https://localhost:8080/"
        },
        "id": "nyBDE8RAzvfU",
        "outputId": "5512f462-183e-4075-f9fd-7c0e1c3953fa"
      },
      "execution_count": null,
      "outputs": [
        {
          "output_type": "execute_result",
          "data": {
            "text/plain": [
              "torch.Size([28, 1, 28])"
            ]
          },
          "metadata": {},
          "execution_count": 16
        }
      ]
    }
  ]
}